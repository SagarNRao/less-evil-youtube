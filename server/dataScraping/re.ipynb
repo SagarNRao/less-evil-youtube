{
 "cells": [
  {
   "cell_type": "code",
   "execution_count": 4,
   "metadata": {},
   "outputs": [],
   "source": [
    "import pandas as pd\n",
    "\n",
    "# # Read the CSV file\n",
    "df = pd.read_csv('here.csv')\n"
   ]
  },
  {
   "cell_type": "code",
   "execution_count": 7,
   "metadata": {},
   "outputs": [],
   "source": [
    "# Read the scrapedvideos.csv file\n",
    "scraped_df = pd.read_csv('scraped_videos2.csv')\n",
    "\n",
    "# Concatenate the existing df with the new scraped_df\n",
    "combined_df = pd.concat([df, scraped_df], ignore_index=True)\n",
    "\n",
    "# Save the combined DataFrame back to here.csv\n",
    "combined_df.to_csv('here.csv', index=False)"
   ]
  }
 ],
 "metadata": {
  "kernelspec": {
   "display_name": "Python 3",
   "language": "python",
   "name": "python3"
  },
  "language_info": {
   "codemirror_mode": {
    "name": "ipython",
    "version": 3
   },
   "file_extension": ".py",
   "mimetype": "text/x-python",
   "name": "python",
   "nbconvert_exporter": "python",
   "pygments_lexer": "ipython3",
   "version": "3.12.0"
  }
 },
 "nbformat": 4,
 "nbformat_minor": 2
}
